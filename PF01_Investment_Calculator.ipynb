{
 "cells": [
  {
   "cell_type": "markdown",
   "metadata": {},
   "source": [
    "<div class=\"alert alert-block alert-info\" style=\"background-color: #f2f2f2; color:#3F3F3F; width:90%; padding:50px; -webkit-border-radius:5px\">\n",
    "\n",
    "## Python Projects 1: Design an Investment Calculator\n",
    "\n",
    "This two-hour pilot workshop is designed for absolute beginners. You'll dive straight into coding without prior examples or explanations.\n",
    "\n",
    "You will be given a series of tasks to complete, guiding you through the steps of building a simple investment calculator.\n",
    "\n",
    "To solve these tasks, you will use the same resources that coders around the world rely on when they don’t know how to do something – online resources/tools, colleagues, and trial and error.\n",
    "\n",
    "We will use Jupyter notebooks for this task, which will allow you to write and test your code section by section. \n",
    "\n",
    "\n",
    "<b>What to do when getting stuck</b>:\n",
    "    <ol>\n",
    "        <li><b>Search online</b>: Being able to search for relevant information online by phrasing your problem as an effective search term is a highly important skill for programmers at all levels of proficiency. Here are a few useful resources to look out for\n",
    "        <ol>\n",
    "            <li>The answer box on the top of Google's results page</li>\n",
    "            <li><a href=\"https://www.w3schools.com\">w3schools.com</a> (basic python questions and interactive tutorials)</li>\n",
    "            <li><a href=\"https://www.geeksforgeeks.org\">www.geeksforgeeks.org</a> (basic python questions)</li>\n",
    "        </ol>\n",
    "        We recommend to steer away from stackoverflow posts at this stage of learning, as answer are usually not written in a beginner-friendly way.\n",
    "        </li>\n",
    "        <li>Check with the people sitting around you. In a real job, you would seek help from your colleagues and friends, so start that now. If you don’t know the person next to you, introduce yourself now.</li>\n",
    "        <li>Ask a <b>trainer</b> if you struggle to find a solution.</li>\n",
    "    </ol>\n"
   ]
  },
  {
   "cell_type": "markdown",
   "metadata": {},
   "source": [
    "<img src=\"https://www.dropbox.com/scl/fi/73y9tgyc5d63y9uk60zz8/invest_calc.jpeg?rlkey=j188lcl471n6d2pauua4edb6m&st=l6s19bc9&raw=1\" width=800>\n"
   ]
  },
  {
   "cell_type": "markdown",
   "metadata": {},
   "source": [
    "You've graduated from LSE with distinction and have secured your first job as a young professional. You’re earning so much money, that you don't know how to spend all of it and started investing your earnings wisely, but the complicated calculations are causing a headache. You stumble upon Python, a powerful yet beginner-friendly programming language. You decide to write a script that simplifies these intricate investment calculations.  "
   ]
  },
  {
   "cell_type": "markdown",
   "metadata": {},
   "source": [
    "Your Python script should allow you to: \n",
    "\n",
    "* Input and store your initial investment amount, monthly contributions, investment duration, and interest rate.\n",
    "\n",
    "* Calculate the final output of the investment.\n"
   ]
  },
  {
   "cell_type": "markdown",
   "metadata": {},
   "source": [
    "\n",
    "### What the final output should look like\n",
    "\n",
    "See below to see an example of the finished product.\n",
    "    "
   ]
  },
  {
   "cell_type": "markdown",
   "metadata": {},
   "source": [
    "User entering values\n",
    "\n",
    "<img src=\"https://www.dropbox.com/scl/fi/o957e2prxh805anyz5wtx/PF1_inv_calc.gif?rlkey=h04gracjjll9xoct5vkn6lxht&st=hftuear7&raw=1\" alt=\"GIF\">\n",
    "\n",
    "<br>\n",
    "\n",
    "Final output\n",
    "\n",
    "<img src=\"https://www.dropbox.com/scl/fi/84sow3yn3kk0ydnfbcrph/PF1_inv_calc.png?rlkey=ribfu8dbx5hqakcaczn5481w3&st=drrwsq4p&raw=1\">"
   ]
  },
  {
   "cell_type": "markdown",
   "metadata": {},
   "source": [
    "## A basic investment calculator\n",
    "\n",
    "Coding a solution often requires breaking a problem down into smaller sections, testing each one before improving on it and building up to the final solution. We suggest you break down this problem as follows: \n",
    "\n",
    "Add code into the labelled code cells below that will: \n",
    "\n",
    "\n",
    "1. Calculate the outcome of a year’s investment with a starting capital of 1000 with a return rate of 5%. A return rate of 5% means that the investment grows by 5% each year. See the calculation below written out as a mathematical formula.\n",
    "$$ 1000 \\times 1.05 $$\n",
    "2. Calculate the outcome after 7 years’ of investment. See the calculation below written out as a mathematical formula.\n",
    "$$ 1000 \\times 1.05^7 $$\n",
    "3. Store the result of both calculations and use the stored values to display two sentences as below, where X is replaced with the respective stored value.\n",
    "\n",
    "        In 1 year, you will have £X\n",
    "        In 7 years, you will have £X\n",
    "  \n",
    "4. Allow the user to input the following values:\n",
    "    - initial investment amount\n",
    "    - interest rates\n",
    "    - length of investment\n",
    "\n",
    "   Then use the values entered by the user to display the result of the investment as for step 3. The user should be able to enter the interest rate as a percentage value. That is, if the user wants to use a 5 percent annual interest rate, they should be able to enter 5 instead of 1.05.\n",
    "\n",
    "5. Add comments to your code so that you, or other colleagues who might look at/use your code, understand what each main section does "
   ]
  },
  {
   "cell_type": "markdown",
   "metadata": {},
   "source": [
    "---"
   ]
  },
  {
   "cell_type": "markdown",
   "metadata": {},
   "source": [
    "##### 1 - Calculate a year's return\n",
    "\n",
    "Calculate the outcome after one year of investment using the formula\n",
    "\n",
    "$ 1000 \\times 1.05 $"
   ]
  },
  {
   "cell_type": "code",
   "execution_count": 9,
   "metadata": {
    "tags": []
   },
   "outputs": [],
   "source": [
    "\n",
    "\n"
   ]
  },
  {
   "cell_type": "markdown",
   "metadata": {},
   "source": [
    "---\n",
    "\n",
    "##### 2 - Calculate the return after seven years\n",
    "\n",
    "Calculate the return after seven years of investing with the following formula\n",
    "\n",
    "$ 1000 \\times 1.05^7 $"
   ]
  },
  {
   "cell_type": "code",
   "execution_count": null,
   "metadata": {},
   "outputs": [],
   "source": [
    "\n",
    "\n"
   ]
  },
  {
   "cell_type": "markdown",
   "metadata": {},
   "source": [
    "---\n",
    "\n",
    "##### 3 - Storing the result of both calculations\n",
    "\n",
    "Store the result of both calculations and use the stored values to display two sentences as below, where X is replaced with the respective stored value.\n",
    "\n",
    "        In 1 year, you will have £X\n",
    "        In 7 years, you will have £X"
   ]
  },
  {
   "cell_type": "code",
   "execution_count": 3,
   "metadata": {},
   "outputs": [],
   "source": [
    "\n",
    "\n"
   ]
  },
  {
   "cell_type": "markdown",
   "metadata": {},
   "source": [
    "---\n",
    "\n",
    "##### 4 - User entering values for investment calculation\n",
    "\n",
    " Allow the user to input the following values:\n",
    "    - initial investment amount\n",
    "    - interest rates\n",
    "    - length of investment\n",
    "\n",
    "   Then use the values entered by the user to display the result of the investment as for step 3. The user should be able to enter the interest rate as a percentage value. That is, if the user wants to use a 5 percent annual interest rate, they should be able to enter 5 instead of 1.05."
   ]
  },
  {
   "cell_type": "code",
   "execution_count": null,
   "metadata": {
    "tags": []
   },
   "outputs": [],
   "source": [
    "\n",
    "\n"
   ]
  },
  {
   "cell_type": "markdown",
   "metadata": {},
   "source": [
    "---\n",
    "\n",
    "##### 5 - Adding comments\n",
    "\n",
    "You should adding comments to your code a habit from the start as it helps you to reflect on your code, makes it easier for people you collaborate with and yourself when looking back at your code in the future to understand the purpose of your code."
   ]
  },
  {
   "cell_type": "markdown",
   "metadata": {},
   "source": [
    "---\n",
    "\n",
    "#### Bonus Task: Adding a flexible interest rate\n",
    "\n",
    "Set the interest rate depending on the years of investmen in such a way that:\n",
    "- If the years of investment is below 5, the interest rate will be set to 2.5%\n",
    "- If the years of investment is larger than 5 and smaller than 10, the interest rate will be set to 3.5%\n",
    "- If the years of investment is larger than 10, the interest rate will be set to 5%"
   ]
  },
  {
   "cell_type": "code",
   "execution_count": null,
   "metadata": {},
   "outputs": [],
   "source": [
    "\n",
    "\n"
   ]
  },
  {
   "cell_type": "markdown",
   "metadata": {},
   "source": [
    "<div class=\"alert alert-block alert-info\" style=\"background-color:#ECECEB; color:#3F3F3F; width:90%; padding:50px; -webkit-border-radius:5px\">\n",
    "\n",
    "### Final task: Please give us your feedback!\n",
    "\n",
    "Upon completing the survey, **you will receive the link to the solution file**, to check how your code compares to the sample solution.\n",
    "\n",
    "In order to adapt our training to your needs and provide the most valuable learning experience for you, we depend on your feedack.\n",
    "\n",
    "We would be grateful if you could take **1 min** before the end of the workshop to get your feedback! \n",
    "\n",
    "<a href=\"https://lse.eu.qualtrics.com/jfe/form/SV_6eSrOVWuit28qcS?coursename=Python Projects 1: Design an Investment Calculator&topic=Python&link=https://lsecloud-my.sharepoint.com/:u:/g/personal/m_wiemers_lse_ac_uk/EcaoFmuqc_9OpNP-aj-wZeUBcyezDHAcD1Deo8wL3o86Ug?e=a36zrf&prog=DS&version=23-24\"><b>Click here to open the survey!</b></a>\n",
    "\n",
    "\n",
    "\n",
    "</div>"
   ]
  }
 ],
 "metadata": {
  "kernelspec": {
   "display_name": "base",
   "language": "python",
   "name": "python3"
  },
  "language_info": {
   "codemirror_mode": {
    "name": "ipython",
    "version": 3
   },
   "file_extension": ".py",
   "mimetype": "text/x-python",
   "name": "python",
   "nbconvert_exporter": "python",
   "pygments_lexer": "ipython3",
   "version": "3.12.2"
  }
 },
 "nbformat": 4,
 "nbformat_minor": 4
}
